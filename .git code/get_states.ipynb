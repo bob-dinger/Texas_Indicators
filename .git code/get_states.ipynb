{
 "cells": [
  {
   "cell_type": "code",
   "execution_count": 1,
   "metadata": {},
   "outputs": [],
   "source": [
    "import os\n",
    "import pandas as pd"
   ]
  },
  {
   "cell_type": "code",
   "execution_count": 6,
   "metadata": {},
   "outputs": [],
   "source": [
    "states=get_states()\n",
    "for s in states:\n",
    "    full_path = os.path.join(\"c:\\\\users\\\\robert\\\\desktop\\\\states\", s['state_abbr'])\n",
    "    os.mkdir(full_path) "
   ]
  },
  {
   "cell_type": "code",
   "execution_count": 3,
   "metadata": {},
   "outputs": [],
   "source": [
    "states=get_states()\n",
    "state_df = pd.DataFrame(states)\n",
    "state_df.to_csv(\"c:\\\\users\\\\robert\\\\desktop\\\\states.csv\")\n",
    "\n",
    "# for s in states:\n",
    "#     full_path = os.path.join(\"c:\\\\users\\\\robert\\\\desktop\\\\states\", s['state_abbr'])\n",
    "#     os.mkdir(full_path) "
   ]
  },
  {
   "cell_type": "code",
   "execution_count": 2,
   "metadata": {},
   "outputs": [],
   "source": [
    "def get_states():\n",
    "    x=[\n",
    "     {\"state_number\":\"01\",\"state_name\":\"Alabama\",\"state_abbr\":\"AL\"},\n",
    "{\"state_number\":\"02\",\"state_name\":\"Alaska\",\"state_abbr\":\"AK\"},\n",
    "{\"state_number\":\"04\",\"state_name\":\"Arizona\",\"state_abbr\":\"AZ\"},\n",
    "{\"state_number\":\"05\",\"state_name\":\"Arkansas\",\"state_abbr\":\"AR\"},\n",
    "{\"state_number\":\"06\",\"state_name\":\"California\",\"state_abbr\":\"CA\"},\n",
    "{\"state_number\":\"08\",\"state_name\":\"Colorado\",\"state_abbr\":\"CO\"},\n",
    "{\"state_number\":\"09\",\"state_name\":\"Connecticut\",\"state_abbr\":\"CT\"},\n",
    "{\"state_number\":\"10\",\"state_name\":\"Delaware\",\"state_abbr\":\"DE\"},\n",
    "{\"state_number\":\"12\",\"state_name\":\"Florida\",\"state_abbr\":\"FL\"},\n",
    "{\"state_number\":\"13\",\"state_name\":\"Georgia\",\"state_abbr\":\"GA\"},\n",
    "{\"state_number\":\"15\",\"state_name\":\"Hawaii\",\"state_abbr\":\"HI\"},\n",
    "{\"state_number\":\"16\",\"state_name\":\"Idaho\",\"state_abbr\":\"ID\"},\n",
    "{\"state_number\":\"17\",\"state_name\":\"Illinois\",\"state_abbr\":\"IL\"},\n",
    "{\"state_number\":\"18\",\"state_name\":\"Indiana\",\"state_abbr\":\"IN\"},\n",
    "{\"state_number\":\"19\",\"state_name\":\"Iowa\",\"state_abbr\":\"IA\"},\n",
    "{\"state_number\":\"20\",\"state_name\":\"Kansas\",\"state_abbr\":\"KS\"},\n",
    "{\"state_number\":\"21\",\"state_name\":\"Kentucky\",\"state_abbr\":\"KY\"},\n",
    "{\"state_number\":\"22\",\"state_name\":\"Louisiana\",\"state_abbr\":\"LA\"},\n",
    "{\"state_number\":\"23\",\"state_name\":\"Maine\",\"state_abbr\":\"ME\"},\n",
    "{\"state_number\":\"24\",\"state_name\":\"Maryland\",\"state_abbr\":\"MD\"},\n",
    "{\"state_number\":\"25\",\"state_name\":\"Massachusetts\",\"state_abbr\":\"MA\"},\n",
    "{\"state_number\":\"26\",\"state_name\":\"Michigan\",\"state_abbr\":\"MI\"},\n",
    "{\"state_number\":\"27\",\"state_name\":\"Minnesota\",\"state_abbr\":\"MN\"},\n",
    "{\"state_number\":\"28\",\"state_name\":\"Mississippi\",\"state_abbr\":\"MS\"},\n",
    "{\"state_number\":\"29\",\"state_name\":\"Missouri\",\"state_abbr\":\"MO\"},\n",
    "{\"state_number\":\"30\",\"state_name\":\"Montana\",\"state_abbr\":\"MT\"},\n",
    "{\"state_number\":\"31\",\"state_name\":\"Nebraska\",\"state_abbr\":\"NE\"},\n",
    "{\"state_number\":\"32\",\"state_name\":\"Nevada\",\"state_abbr\":\"NV\"},\n",
    "{\"state_number\":\"33\",\"state_name\":\"New Hampshire\",\"state_abbr\":\"NH\"},\n",
    "{\"state_number\":\"34\",\"state_name\":\"New Jersey\",\"state_abbr\":\"NJ\"},\n",
    "{\"state_number\":\"35\",\"state_name\":\"New Mexico\",\"state_abbr\":\"NM\"},\n",
    "{\"state_number\":\"36\",\"state_name\":\"New York\",\"state_abbr\":\"NY\"},\n",
    "{\"state_number\":\"37\",\"state_name\":\"North Carolina\",\"state_abbr\":\"NC\"},\n",
    "{\"state_number\":\"38\",\"state_name\":\"North Dakota\",\"state_abbr\":\"ND\"},\n",
    "{\"state_number\":\"39\",\"state_name\":\"Ohio\",\"state_abbr\":\"OH\"},\n",
    "{\"state_number\":\"40\",\"state_name\":\"Oklahoma\",\"state_abbr\":\"OK\"},\n",
    "{\"state_number\":\"41\",\"state_name\":\"Oregon\",\"state_abbr\":\"OR\"},\n",
    "{\"state_number\":\"42\",\"state_name\":\"Pennsylvania\",\"state_abbr\":\"PA\"},\n",
    "{\"state_number\":\"44\",\"state_name\":\"Rhode Island\",\"state_abbr\":\"RI\"},\n",
    "{\"state_number\":\"45\",\"state_name\":\"South Carolina\",\"state_abbr\":\"SC\"},\n",
    "{\"state_number\":\"46\",\"state_name\":\"South Dakota\",\"state_abbr\":\"SD\"},\n",
    "{\"state_number\":\"47\",\"state_name\":\"Tennessee\",\"state_abbr\":\"TN\"},\n",
    "{\"state_number\":\"48\",\"state_name\":\"Texas\",\"state_abbr\":\"TX\"},\n",
    "{\"state_number\":\"49\",\"state_name\":\"Utah\",\"state_abbr\":\"UT\"},\n",
    "{\"state_number\":\"50\",\"state_name\":\"Vermont\",\"state_abbr\":\"VT\"},\n",
    "{\"state_number\":\"51\",\"state_name\":\"Virginia\",\"state_abbr\":\"VA\"},\n",
    "{\"state_number\":\"53\",\"state_name\":\"Washington\",\"state_abbr\":\"WA\"},\n",
    "{\"state_number\":\"54\",\"state_name\":\"West Virginia\",\"state_abbr\":\"WV\"},\n",
    "{\"state_number\":\"55\",\"state_name\":\"Wisconsin\",\"state_abbr\":\"WI\"},\n",
    "{\"state_number\":\"56\",\"state_name\":\"Wyoming\",\"state_abbr\":\"WY\"} ]\n",
    "    return x\n",
    "    \n",
    "        "
   ]
  },
  {
   "cell_type": "code",
   "execution_count": null,
   "metadata": {},
   "outputs": [],
   "source": []
  }
 ],
 "metadata": {
  "kernelspec": {
   "display_name": "Python 3",
   "language": "python",
   "name": "python3"
  },
  "language_info": {
   "codemirror_mode": {
    "name": "ipython",
    "version": 3
   },
   "file_extension": ".py",
   "mimetype": "text/x-python",
   "name": "python",
   "nbconvert_exporter": "python",
   "pygments_lexer": "ipython3",
   "version": "3.7.3"
  }
 },
 "nbformat": 4,
 "nbformat_minor": 2
}

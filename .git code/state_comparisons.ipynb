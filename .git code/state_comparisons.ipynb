{
 "cells": [
  {
   "cell_type": "code",
   "execution_count": 1,
   "source": [
    "import pandas as pd\r\n",
    "import os"
   ],
   "outputs": [],
   "metadata": {}
  },
  {
   "cell_type": "code",
   "execution_count": null,
   "source": [
    "folders = os.listdir(\"c:\\\\users\\\\robert\\\\jupyter\\\\texas_2036\\\\indicators\")\r\n",
    "\r\n",
    "for f in folders:\r\n",
    "    if \".git\" in f:\r\n",
    "        x=[]\r\n",
    "    else:\r\n",
    "        if os.path.isdir(os.path.join(\"c:\\\\users\\\\robert\\\\jupyter\\\\texas_2036\\\\indicators\",f))==True:\r\n",
    "            indicators = os.listdir(os.path.join(\"c:\\\\users\\\\robert\\\\jupyter\\\\texas_2036\\\\indicators\",f))\r\n",
    "            for i in indicators:\r\n",
    "                ind_files = os.listdir(os.path.join(\"c:\\\\users\\\\robert\\\\jupyter\\\\texas_2036\\\\indicators\",f, i))\r\n",
    "                for d in ind_files:\r\n",
    "                    if d==\"state data\":\r\n",
    "                        state_data_files = os.listdir(os.path.join(\"c:\\\\users\\\\robert\\\\jupyter\\\\texas_2036\\\\indicators\",f, i,d))\r\n",
    "                        if len(state_data_files)>0:\r\n",
    "                            for s in state_data_files:\r\n",
    "                                counter=counter+1\r\n",
    "                                df = pd.read_csv(os.path.join(\"c:\\\\users\\\\robert\\\\jupyter\\\\texas_2036\\\\indicators\",f, i,d,s))\r\n",
    "                                df.to_excel(writer, index=False, sheet_name=i[0:31])\r\n",
    "                                workbook = writer.bookworksheet = writer.sheets[i[0:31]]"
   ],
   "outputs": [],
   "metadata": {}
  }
 ],
 "metadata": {
  "orig_nbformat": 4,
  "language_info": {
   "name": "python",
   "version": "3.7.3",
   "mimetype": "text/x-python",
   "codemirror_mode": {
    "name": "ipython",
    "version": 3
   },
   "pygments_lexer": "ipython3",
   "nbconvert_exporter": "python",
   "file_extension": ".py"
  },
  "kernelspec": {
   "name": "python3",
   "display_name": "Python 3.7.3 64-bit ('base': conda)"
  },
  "interpreter": {
   "hash": "d662ef7608a1b19d29c47303f899f96d20137a0e9981840fd39f4bb6f4761798"
  }
 },
 "nbformat": 4,
 "nbformat_minor": 2
}
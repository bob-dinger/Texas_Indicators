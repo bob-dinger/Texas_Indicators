{
 "cells": [
  {
   "cell_type": "code",
   "execution_count": 1,
   "source": [
    "import pandas as pd"
   ],
   "outputs": [],
   "metadata": {}
  },
  {
   "cell_type": "code",
   "execution_count": 5,
   "source": [
    "ranking_2019 = pd.read_csv(\"c:\\\\users\\\\robert\\\\jupyter\\\\texas_2036\\\\scratch\\\\Americas health rankings 2018-2020\\\\2019-Annual.csv\")\r\n",
    "ranking_2020 = pd.read_csv(\"c:\\\\users\\\\robert\\\\jupyter\\\\texas_2036\\\\scratch\\\\Americas health rankings 2018-2020\\\\2020-Annual.csv\")\r\n"
   ],
   "outputs": [],
   "metadata": {}
  },
  {
   "cell_type": "code",
   "execution_count": 6,
   "source": [
    "cols =[\r\n",
    "'Adverse Childhood Experiences',\r\n",
    "'Avoided Care Due to Cost',\r\n",
    "'Childhood Immunizations',\r\n",
    "'Colorectal Cancer Screening',\r\n",
    "'Dedicated Health Care Provider',\r\n",
    "'Dental Care Providers',\r\n",
    "'Depression',\r\n",
    "'Drinking Water Violations',\r\n",
    "'Drive Alone to Work',\r\n",
    "'Drug Deaths (1-year)',\r\n",
    "'Excessive Drinking',\r\n",
    "'Exercise',\r\n",
    "'Flu Vaccination',\r\n",
    "'Food Insecurity',\r\n",
    "'Frequent Mental Distress',\r\n",
    "'Frequent Physical Distress',\r\n",
    "'High-speed Internet',\r\n",
    "'Illicit Drug Use (excluding opioids and cannabis)',\r\n",
    "'Income Inequality',\r\n",
    "'Low Birthweight',\r\n",
    "'Mental Health Providers',\r\n",
    "'Mortality - Annual',\r\n",
    "'Multiple Chronic Conditions',\r\n",
    "'Non-medical Drug Use',\r\n",
    "'Nutrition and Physical Activity',\r\n",
    "'Obesity',\r\n",
    "'Physical Inactivity',\r\n",
    "'Premature Death',\r\n",
    "'Preventable Hospitalizations',\r\n",
    "'Primary Care Providers',\r\n",
    "'Public Health Funding',\r\n",
    "'Smoking',\r\n",
    "'Teen Births',\r\n",
    "'Uninsured',\r\n",
    "'Violent Crime',\r\n",
    "'Volunteerism',\r\n",
    "'Voter Participation (Midterm)',\r\n",
    "'Voter Participation (Presidential)'\r\n",
    "]"
   ],
   "outputs": [],
   "metadata": {}
  },
  {
   "cell_type": "code",
   "execution_count": 8,
   "source": [
    "import os\r\n",
    "for c in cols:\r\n",
    "    this_df=ranking_2019[ranking_2019['Measure Name']==c]\r\n",
    "    this_df = this_df[['State Name','Value','Rank']]\r\n",
    "    this_df_2 = ranking_2020[ranking_2020['Measure Name']==c]\r\n",
    "    this_df_2 = this_df_2[['State Name','Value','Rank']]\r\n",
    "    this_df.rename(columns={'Rank':'Rank_2019', 'Value':'Value_2019'}, inplace=True)\r\n",
    "    this_df_2.rename(columns={'Rank':'Rank_2020', 'Value':'Value_2020'}, inplace=True)\r\n",
    "    final_df = this_df.merge(this_df_2, on='State Name')\r\n",
    "    final_df.to_csv(os.path.join(\"c:\\\\users\\\\robert\\\\desktop\\\\health2\", \"state_data_\"+c + \".csv\"))\r\n",
    "\r\n"
   ],
   "outputs": [],
   "metadata": {}
  },
  {
   "cell_type": "code",
   "execution_count": null,
   "source": [],
   "outputs": [],
   "metadata": {}
  }
 ],
 "metadata": {
  "orig_nbformat": 4,
  "language_info": {
   "name": "python",
   "version": "3.7.3",
   "mimetype": "text/x-python",
   "codemirror_mode": {
    "name": "ipython",
    "version": 3
   },
   "pygments_lexer": "ipython3",
   "nbconvert_exporter": "python",
   "file_extension": ".py"
  },
  "kernelspec": {
   "name": "python3",
   "display_name": "Python 3.7.3 64-bit ('base': conda)"
  },
  "interpreter": {
   "hash": "d662ef7608a1b19d29c47303f899f96d20137a0e9981840fd39f4bb6f4761798"
  }
 },
 "nbformat": 4,
 "nbformat_minor": 2
}
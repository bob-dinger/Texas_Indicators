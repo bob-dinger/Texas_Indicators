{
 "cells": [
  {
   "cell_type": "code",
   "execution_count": 1,
   "source": [
    "import pandas as pd\r\n",
    "import os"
   ],
   "outputs": [],
   "metadata": {}
  },
  {
   "cell_type": "code",
   "execution_count": 4,
   "source": [
    "# get ascending.csv\r\n",
    "# get ranks.txt\r\n",
    "import numpy as np\r\n",
    "#df['First Season'] = np.where(df['First Season'] > 1990, 1, df['First Season'])\r\n",
    "\r\n",
    "asc = pd.read_csv(\"ascending.csv\")\r\n",
    "ranks = pd.read_csv(\"c:\\\\users\\\\robert\\\\desktop\\\\ranks.csv\")\r\n",
    "\r\n",
    "ranks['rank']= ranks['rank'].astype(float)\r\n",
    "ranks['previous_rank']= ranks['previous_rank'].astype(float)\r\n",
    "\r\n",
    "ranks['peer_rank']= ranks['peer_rank'].astype(float)\r\n",
    "ranks['peer_rank']= ranks['peer_rank']+1\r\n",
    "\r\n",
    "ranks['previous_peer_rank']= ranks['previous_peer_rank'].astype(float)\r\n",
    "ranks['previous_peer_rank']= ranks['previous_peer_rank']+1\r\n",
    "\r\n",
    "\r\n",
    "# merge\r\n",
    "ranks = ranks.merge(asc, on='indicator')\r\n",
    "desc = ranks[ranks['direction']=='descending']\r\n",
    "\r\n",
    "#ranks.loc[(ranks['direction'] == 'descending'),'Rank']='Hip-Hop'\r\n",
    "\r\n",
    "ranks['rank']= np.where(ranks['direction'] == 'descending',  51-ranks['rank'],ranks['rank'])\r\n",
    "ranks['peer_rank']= np.where(ranks['direction'] == 'descending', 13-ranks['peer_rank'],ranks['peer_rank'])\r\n",
    "ranks['previous_rank']= np.where(ranks['direction'] == 'descending', 51-ranks['previous_rank'],ranks['previous_rank'])\r\n",
    "ranks['previous_peer_rank']= np.where(ranks['direction'] == 'descending', 13-ranks['previous_peer_rank'], ranks['previous_peer_rank'])\r\n",
    "\r\n",
    "\r\n",
    "\r\n",
    "ranks.to_csv(\"c:\\\\users\\\\robert\\\\desktop\\\\ranks_direction_2.csv\")\r\n",
    "\r\n",
    "# to csv\r\n",
    "\r\n",
    "\r\n"
   ],
   "outputs": [],
   "metadata": {}
  },
  {
   "cell_type": "code",
   "execution_count": null,
   "source": [],
   "outputs": [],
   "metadata": {}
  }
 ],
 "metadata": {
  "orig_nbformat": 4,
  "language_info": {
   "name": "python",
   "version": "3.7.3",
   "mimetype": "text/x-python",
   "codemirror_mode": {
    "name": "ipython",
    "version": 3
   },
   "pygments_lexer": "ipython3",
   "nbconvert_exporter": "python",
   "file_extension": ".py"
  },
  "kernelspec": {
   "name": "python3",
   "display_name": "Python 3.7.3 64-bit ('base': conda)"
  },
  "interpreter": {
   "hash": "d662ef7608a1b19d29c47303f899f96d20137a0e9981840fd39f4bb6f4761798"
  }
 },
 "nbformat": 4,
 "nbformat_minor": 2
}
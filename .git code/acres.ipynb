{
 "cells": [
  {
   "cell_type": "code",
   "execution_count": 1,
   "metadata": {},
   "outputs": [],
   "source": [
    "import pandas as pd\n",
    "import geopandas as gpd"
   ]
  },
  {
   "cell_type": "code",
   "execution_count": 2,
   "metadata": {},
   "outputs": [],
   "source": [
    "acres = gpd.read_file(\"c:\\\\users\\\\robert\\\\desktop\\\\tx_easements.geojson\")"
   ]
  },
  {
   "cell_type": "code",
   "execution_count": 3,
   "metadata": {},
   "outputs": [
    {
     "name": "stdout",
     "output_type": "stream",
     "text": [
      "['Category', 'd_Category', 'Own_Type', 'd_Own_Type', 'Own_Name', 'd_Own_Name', 'Loc_Own', 'Mang_Type', 'd_Mang_Typ', 'Mang_Name', 'd_Mang_Nam', 'Loc_Mang', 'Des_Tp', 'd_Des_Tp', 'Loc_Ds', 'Unit_Nm', 'Loc_Nm', 'State_Nm', 'd_State_Nm', 'Agg_Src', 'GIS_Src', 'Src_Date', 'GIS_Acres', 'Source_PAI', 'WDPA_Cd', 'Access', 'd_Access', 'Access_Src', 'GAP_Sts', 'd_GAP_Sts', 'GAPCdSrc', 'GAPCdDt', 'IUCN_Cat', 'd_IUCN_Cat', 'IUCNCtSrc', 'IUCNCtDt', 'Date_Est', 'Comments', 'SHAPE_Leng', 'Shape_Le_1', 'Shape_Area', 'geometry']\n"
     ]
    }
   ],
   "source": [
    "print(acres.columns.tolist())"
   ]
  },
  {
   "cell_type": "code",
   "execution_count": 7,
   "metadata": {},
   "outputs": [
    {
     "data": {
      "text/plain": [
       "8299815"
      ]
     },
     "execution_count": 7,
     "metadata": {},
     "output_type": "execute_result"
    }
   ],
   "source": [
    "acres['GIS_Acres'].sum()\n"
   ]
  },
  {
   "cell_type": "code",
   "execution_count": 8,
   "metadata": {},
   "outputs": [],
   "source": [
    "private_conservation = gpd.read_file(\"c:\\\\users\\\\robert\\\\desktop\\\\private_conservation.geojson\")\n",
    "conservation_easement = gpd.read_file(\"c:\\\\users\\\\robert\\\\desktop\\\\conservation_easement.geojson\")\n"
   ]
  },
  {
   "cell_type": "code",
   "execution_count": 9,
   "metadata": {},
   "outputs": [
    {
     "data": {
      "text/plain": [
       "113019"
      ]
     },
     "execution_count": 9,
     "metadata": {},
     "output_type": "execute_result"
    }
   ],
   "source": [
    "private_conservation['GIS_Acres'].sum()"
   ]
  },
  {
   "cell_type": "code",
   "execution_count": 10,
   "metadata": {},
   "outputs": [
    {
     "data": {
      "text/plain": [
       "488812"
      ]
     },
     "execution_count": 10,
     "metadata": {},
     "output_type": "execute_result"
    }
   ],
   "source": [
    "conservation_easement['GIS_Acres'].sum()"
   ]
  },
  {
   "cell_type": "code",
   "execution_count": 11,
   "metadata": {},
   "outputs": [
    {
     "data": {
      "text/plain": [
       "657966"
      ]
     },
     "execution_count": 11,
     "metadata": {},
     "output_type": "execute_result"
    }
   ],
   "source": [
    "all_easements = gpd.read_file(\"c:\\\\users\\\\robert\\\\desktop\\\\easements_all.geojson\")\n",
    "all_easements['GIS_Acres'].sum()\n"
   ]
  },
  {
   "cell_type": "code",
   "execution_count": 12,
   "metadata": {},
   "outputs": [
    {
     "data": {
      "text/plain": [
       "2332732"
      ]
     },
     "execution_count": 12,
     "metadata": {},
     "output_type": "execute_result"
    }
   ],
   "source": [
    "state_owned = gpd.read_file(\"c:\\\\users\\\\robert\\\\desktop\\\\state_owned.geojson\")\n",
    "state_owned['GIS_Acres'].sum()"
   ]
  },
  {
   "cell_type": "code",
   "execution_count": 17,
   "metadata": {},
   "outputs": [],
   "source": [
    "df1 = pd.DataFrame(acres.groupby('Loc_Ds').sum())\n",
    "df1.to_csv(\"c:\\\\users\\\\robert\\\\desktop\\\\acres_by_type.csv\")"
   ]
  },
  {
   "cell_type": "code",
   "execution_count": 20,
   "metadata": {},
   "outputs": [],
   "source": [
    "df2 = pd.DataFrame(acres.groupby('d_Category').sum())\n",
    "df2.to_csv(\"c:\\\\users\\\\robert\\\\desktop\\\\acres_by_category.csv\")"
   ]
  },
  {
   "cell_type": "code",
   "execution_count": 21,
   "metadata": {},
   "outputs": [],
   "source": [
    "df2 = pd.DataFrame(acres.groupby('d_Own_Type').sum())\n",
    "df2.to_csv(\"c:\\\\users\\\\robert\\\\desktop\\\\acres_by_owntype2.csv\")"
   ]
  },
  {
   "cell_type": "code",
   "execution_count": 22,
   "metadata": {},
   "outputs": [],
   "source": [
    "df2 = pd.DataFrame(acres.groupby('GAP_Sts').sum())\n",
    "df2.to_csv(\"c:\\\\users\\\\robert\\\\desktop\\\\acres_by_gapSts.csv\")"
   ]
  },
  {
   "cell_type": "code",
   "execution_count": 23,
   "metadata": {},
   "outputs": [],
   "source": [
    "df2 = pd.DataFrame(acres.groupby('d_IUCN_Cat').sum())\n",
    "df2.to_csv(\"c:\\\\users\\\\robert\\\\desktop\\\\acres_by_diucncat.csv\")"
   ]
  },
  {
   "cell_type": "code",
   "execution_count": null,
   "metadata": {},
   "outputs": [],
   "source": []
  }
 ],
 "metadata": {
  "interpreter": {
   "hash": "a548feff86a27dd90150f08de6d15a073c8066b5deb3f558edcdb4a59ce503ae"
  },
  "kernelspec": {
   "display_name": "Python 3.7.4 32-bit",
   "language": "python",
   "name": "python3"
  },
  "language_info": {
   "codemirror_mode": {
    "name": "ipython",
    "version": 3
   },
   "file_extension": ".py",
   "mimetype": "text/x-python",
   "name": "python",
   "nbconvert_exporter": "python",
   "pygments_lexer": "ipython3",
   "version": "3.7.3"
  },
  "orig_nbformat": 4
 },
 "nbformat": 4,
 "nbformat_minor": 2
}
